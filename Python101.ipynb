{
  "nbformat": 4,
  "nbformat_minor": 0,
  "metadata": {
    "colab": {
      "provenance": [],
      "toc_visible": true,
      "include_colab_link": true
    },
    "kernelspec": {
      "name": "python3",
      "display_name": "Python 3"
    },
    "language_info": {
      "name": "python"
    }
  },
  "cells": [
    {
      "cell_type": "markdown",
      "metadata": {
        "id": "view-in-github",
        "colab_type": "text"
      },
      "source": [
        "<a href=\"https://colab.research.google.com/github/sitthatkaja/DPDM2023/blob/main/Python101.ipynb\" target=\"_parent\"><img src=\"https://colab.research.google.com/assets/colab-badge.svg\" alt=\"Open In Colab\"/></a>"
      ]
    },
    {
      "cell_type": "markdown",
      "source": [
        "# String manipulation and print statment"
      ],
      "metadata": {
        "id": "sUmW9DZPX9dY"
      }
    },
    {
      "cell_type": "markdown",
      "source": [
        "## Python example"
      ],
      "metadata": {
        "id": "JUIWH8idYBIF"
      }
    },
    {
      "cell_type": "code",
      "source": [
        "for i in ['a','b','c'] :\n",
        "  print(i,end=' ')\n",
        "  print('/')\n",
        "  for j in range(10):\n",
        "    ccc=10"
      ],
      "metadata": {
        "colab": {
          "base_uri": "https://localhost:8080/"
        },
        "id": "dyfOsfVnX8zV",
        "outputId": "63499a21-118c-4e86-b454-5e39933f593c"
      },
      "execution_count": 1,
      "outputs": [
        {
          "output_type": "stream",
          "name": "stdout",
          "text": [
            "a /\n",
            "b /\n",
            "c /\n"
          ]
        }
      ]
    },
    {
      "cell_type": "code",
      "execution_count": 2,
      "metadata": {
        "colab": {
          "base_uri": "https://localhost:8080/"
        },
        "id": "UkqSZC68X4cg",
        "outputId": "3dbf5617-bb55-4dca-dc63-1c3c5c6fae34"
      },
      "outputs": [
        {
          "output_type": "stream",
          "name": "stdout",
          "text": [
            "a /\n",
            "10\n",
            "10\n",
            "10\n",
            "10\n",
            "10\n",
            "10\n",
            "10\n",
            "10\n",
            "10\n",
            "10\n",
            "b /\n",
            "10\n",
            "10\n",
            "10\n",
            "10\n",
            "10\n",
            "10\n",
            "10\n",
            "10\n",
            "10\n",
            "10\n",
            "c /\n",
            "10\n",
            "10\n",
            "10\n",
            "10\n",
            "10\n",
            "10\n",
            "10\n",
            "10\n",
            "10\n",
            "10\n"
          ]
        }
      ],
      "source": [
        "for i in ['a','b','c']:\n",
        "    print(i,end=' ')\n",
        "    print('/')\n",
        "    for j in range (10):\n",
        "        ccc=10\n",
        "        print(ccc)"
      ]
    },
    {
      "cell_type": "markdown",
      "source": [
        "## String(text)"
      ],
      "metadata": {
        "id": "mgTqdqC-YbVr"
      }
    },
    {
      "cell_type": "code",
      "source": [
        "text1 = \"Stat\""
      ],
      "metadata": {
        "id": "Aki52LSMYeGR"
      },
      "execution_count": 3,
      "outputs": []
    },
    {
      "cell_type": "code",
      "source": [
        "text2 = 'KKU'"
      ],
      "metadata": {
        "id": "DXqpcfVVYhNf"
      },
      "execution_count": 4,
      "outputs": []
    },
    {
      "cell_type": "code",
      "source": [
        "print(text1)"
      ],
      "metadata": {
        "colab": {
          "base_uri": "https://localhost:8080/"
        },
        "id": "gYbLncc1Yhwy",
        "outputId": "b0c5bf66-3691-4f0b-ffe9-3f08a4267392"
      },
      "execution_count": 5,
      "outputs": [
        {
          "output_type": "stream",
          "name": "stdout",
          "text": [
            "Stat\n"
          ]
        }
      ]
    },
    {
      "cell_type": "code",
      "source": [
        "print(text1+text2)"
      ],
      "metadata": {
        "colab": {
          "base_uri": "https://localhost:8080/"
        },
        "id": "mZZ3M0wbYkru",
        "outputId": "110ac18b-2112-4294-bbd7-cdc1f19e3ca5"
      },
      "execution_count": 6,
      "outputs": [
        {
          "output_type": "stream",
          "name": "stdout",
          "text": [
            "StatKKU\n"
          ]
        }
      ]
    },
    {
      "cell_type": "code",
      "source": [
        "print(text1 + 5)"
      ],
      "metadata": {
        "colab": {
          "base_uri": "https://localhost:8080/",
          "height": 165
        },
        "id": "zRL7x7KpYquR",
        "outputId": "bbf9f833-b1a0-45ac-9b5d-0a6b0eba181d"
      },
      "execution_count": 8,
      "outputs": [
        {
          "output_type": "error",
          "ename": "TypeError",
          "evalue": "ignored",
          "traceback": [
            "\u001b[0;31m---------------------------------------------------------------------------\u001b[0m",
            "\u001b[0;31mTypeError\u001b[0m                                 Traceback (most recent call last)",
            "\u001b[0;32m<ipython-input-8-bc6446dfb353>\u001b[0m in \u001b[0;36m<cell line: 1>\u001b[0;34m()\u001b[0m\n\u001b[0;32m----> 1\u001b[0;31m \u001b[0mprint\u001b[0m\u001b[0;34m(\u001b[0m\u001b[0mtext1\u001b[0m \u001b[0;34m+\u001b[0m \u001b[0;36m5\u001b[0m\u001b[0;34m)\u001b[0m\u001b[0;34m\u001b[0m\u001b[0;34m\u001b[0m\u001b[0m\n\u001b[0m",
            "\u001b[0;31mTypeError\u001b[0m: can only concatenate str (not \"int\") to str"
          ]
        }
      ]
    },
    {
      "cell_type": "code",
      "source": [
        "print(5 + text1)"
      ],
      "metadata": {
        "colab": {
          "base_uri": "https://localhost:8080/",
          "height": 165
        },
        "id": "-llIefCzYtaH",
        "outputId": "56b8771d-ffba-4d66-c84f-571d36da2b20"
      },
      "execution_count": 9,
      "outputs": [
        {
          "output_type": "error",
          "ename": "TypeError",
          "evalue": "ignored",
          "traceback": [
            "\u001b[0;31m---------------------------------------------------------------------------\u001b[0m",
            "\u001b[0;31mTypeError\u001b[0m                                 Traceback (most recent call last)",
            "\u001b[0;32m<ipython-input-9-315351ee8dfd>\u001b[0m in \u001b[0;36m<cell line: 1>\u001b[0;34m()\u001b[0m\n\u001b[0;32m----> 1\u001b[0;31m \u001b[0mprint\u001b[0m\u001b[0;34m(\u001b[0m\u001b[0;36m5\u001b[0m \u001b[0;34m+\u001b[0m \u001b[0mtext1\u001b[0m\u001b[0;34m)\u001b[0m\u001b[0;34m\u001b[0m\u001b[0;34m\u001b[0m\u001b[0m\n\u001b[0m",
            "\u001b[0;31mTypeError\u001b[0m: unsupported operand type(s) for +: 'int' and 'str'"
          ]
        }
      ]
    },
    {
      "cell_type": "markdown",
      "source": [
        "## Variable"
      ],
      "metadata": {
        "id": "v07ynnoVYwSR"
      }
    },
    {
      "cell_type": "code",
      "source": [
        "a = 5 #int\n",
        "print(a)"
      ],
      "metadata": {
        "colab": {
          "base_uri": "https://localhost:8080/"
        },
        "id": "sG2g9sdjY43v",
        "outputId": "464fe41a-dc05-45da-b215-65c813625964"
      },
      "execution_count": 23,
      "outputs": [
        {
          "output_type": "stream",
          "name": "stdout",
          "text": [
            "5\n"
          ]
        }
      ]
    },
    {
      "cell_type": "code",
      "source": [
        "b = 5.7 #float\n",
        "print(b)"
      ],
      "metadata": {
        "colab": {
          "base_uri": "https://localhost:8080/"
        },
        "id": "4USxTM0QY6fq",
        "outputId": "33cf93c3-6f6c-4a31-a5ce-e2e597b8faec"
      },
      "execution_count": 24,
      "outputs": [
        {
          "output_type": "stream",
          "name": "stdout",
          "text": [
            "5.7\n"
          ]
        }
      ]
    },
    {
      "cell_type": "code",
      "source": [
        "c = a-b\n",
        "print(c)"
      ],
      "metadata": {
        "colab": {
          "base_uri": "https://localhost:8080/"
        },
        "id": "DNM5bnjtY7yJ",
        "outputId": "17736389-09bd-471f-ec05-1a449971f39b"
      },
      "execution_count": 26,
      "outputs": [
        {
          "output_type": "stream",
          "name": "stdout",
          "text": [
            "-0.7000000000000002\n"
          ]
        }
      ]
    },
    {
      "cell_type": "markdown",
      "source": [
        "## ข้อกำหนดในการตั้งชื่อตัวแปร\n",
        "1. ตั้งให้สื่อความหมาย\n",
        "2. ตั้งให้เป็นภาษาอังกฤษ\n",
        "3. ใช้ตัวเลขผสมกับตัวหนังสือได้ แต่ห้ามขึ้นต้นด้วยตัวเลข\n",
        "4. ห้ามมีเว้นวรรคในชื่อตัวแปร\n",
        "5. ตัวใหญ่ ตัวเล็กค่าไม่เท่ากัน\n",
        "\n",
        "\n",
        "## variable naming rules\n",
        "1. Try to use meaningful word\n",
        "2. Do it in English\n",
        "3. You can use number in variable name the name connot atart with number\n",
        "4. there should be no space in the name\n",
        "5. variable name is case-sensitive (Abc is not equal to ABC)"
      ],
      "metadata": {
        "id": "Y-WakksGY-qa"
      }
    },
    {
      "cell_type": "markdown",
      "source": [
        "##Advanced printing"
      ],
      "metadata": {
        "id": "MEflkU7kZRHh"
      }
    },
    {
      "cell_type": "code",
      "source": [
        "print(f'six plus five = {6+5}')"
      ],
      "metadata": {
        "colab": {
          "base_uri": "https://localhost:8080/"
        },
        "id": "C5A30Uq5ZmAB",
        "outputId": "7f07202a-0c84-432f-d803-774e07fc7980"
      },
      "execution_count": 27,
      "outputs": [
        {
          "output_type": "stream",
          "name": "stdout",
          "text": [
            "six plus five = 11\n"
          ]
        }
      ]
    },
    {
      "cell_type": "code",
      "source": [
        "print(f'six plus five = {6+5:.2f}') # .2f หมายถึงทำเป็นทศนิยม 2 ตำแหน่ง"
      ],
      "metadata": {
        "colab": {
          "base_uri": "https://localhost:8080/"
        },
        "id": "7uE5avqdZ4Lo",
        "outputId": "f432aa01-27eb-4f4e-a0d5-decdcac78e20"
      },
      "execution_count": 28,
      "outputs": [
        {
          "output_type": "stream",
          "name": "stdout",
          "text": [
            "six plus five = 11.00\n"
          ]
        }
      ]
    },
    {
      "cell_type": "code",
      "source": [
        "print(f'six plus five = {6+5:.2f}%') # % หมายถึงเป็น %"
      ],
      "metadata": {
        "colab": {
          "base_uri": "https://localhost:8080/"
        },
        "id": "0bZygJghZnsP",
        "outputId": "fa2066f0-65e6-4735-dd74-6ff375704a4d"
      },
      "execution_count": 29,
      "outputs": [
        {
          "output_type": "stream",
          "name": "stdout",
          "text": [
            "six plus five = 11.00%\n"
          ]
        }
      ]
    },
    {
      "cell_type": "code",
      "source": [
        "print(f'six plus five = {6+5:3.0f}%') # .0 หมายถึง ไม่เอาทศนิยม"
      ],
      "metadata": {
        "colab": {
          "base_uri": "https://localhost:8080/"
        },
        "id": "YovMbr3zZo4p",
        "outputId": "3f513937-0400-4861-92cc-86edf864153d"
      },
      "execution_count": 30,
      "outputs": [
        {
          "output_type": "stream",
          "name": "stdout",
          "text": [
            "six plus five =  11%\n"
          ]
        }
      ]
    },
    {
      "cell_type": "code",
      "source": [
        "print(f'six plus five = {6+5:03d}') #แสดงผลลัพธ์ 3 หลัก"
      ],
      "metadata": {
        "colab": {
          "base_uri": "https://localhost:8080/"
        },
        "id": "ZqEvgTlFZqTi",
        "outputId": "a971d80d-f4bf-49e6-8d1e-db7410184012"
      },
      "execution_count": 31,
      "outputs": [
        {
          "output_type": "stream",
          "name": "stdout",
          "text": [
            "six plus five = 011\n"
          ]
        }
      ]
    },
    {
      "cell_type": "code",
      "source": [
        "st1 = f'six plus five = {6+5:03d}' #เก็บข้อมูลใน st1"
      ],
      "metadata": {
        "id": "Xk6sLHDoZ-5l"
      },
      "execution_count": 32,
      "outputs": []
    },
    {
      "cell_type": "code",
      "source": [
        "st1 #แสดงผลออกมา"
      ],
      "metadata": {
        "colab": {
          "base_uri": "https://localhost:8080/",
          "height": 35
        },
        "id": "07IuSmjnaAbw",
        "outputId": "e815f270-d5c1-48d6-d6fe-7eecf409880c"
      },
      "execution_count": 33,
      "outputs": [
        {
          "output_type": "execute_result",
          "data": {
            "text/plain": [
              "'six plus five = 011'"
            ],
            "application/vnd.google.colaboratory.intrinsic+json": {
              "type": "string"
            }
          },
          "metadata": {},
          "execution_count": 33
        }
      ]
    },
    {
      "cell_type": "markdown",
      "source": [
        "4/7/2566\n",
        "\n",
        "\n",
        "```\n",
        "print(object(s), sep=separator, end=end, file=file, flush=flush)\n",
        "\n",
        "(s) is mean compel (บังคับ)\n",
        "without (s) is mean optional,it have default value (ไม่บังคับและมีค่า default อยู่่แล้ว)\n",
        "```\n",
        "\n"
      ],
      "metadata": {
        "id": "uQcYWHgS9Ob9"
      }
    },
    {
      "cell_type": "code",
      "source": [
        "print('stat')"
      ],
      "metadata": {
        "colab": {
          "base_uri": "https://localhost:8080/"
        },
        "id": "BsXZG3Xk6vZK",
        "outputId": "8965fff9-e7ac-4052-ee59-b2093b7aa5f6"
      },
      "execution_count": 34,
      "outputs": [
        {
          "output_type": "stream",
          "name": "stdout",
          "text": [
            "stat\n"
          ]
        }
      ]
    },
    {
      "cell_type": "markdown",
      "source": [
        "### separator (sep)\n",
        "\n",
        "\n",
        "```\n",
        "Default is ' '\n",
        "```\n",
        "for example\n"
      ],
      "metadata": {
        "id": "VPmUaNBN-oDq"
      }
    },
    {
      "cell_type": "code",
      "source": [
        "print('stat','KKU') #มีช่องว่างถ้าใส่ ,"
      ],
      "metadata": {
        "colab": {
          "base_uri": "https://localhost:8080/"
        },
        "id": "58d2OykL9uLV",
        "outputId": "2634d9f8-de20-4bb5-c27e-05ea2a052beb"
      },
      "execution_count": 37,
      "outputs": [
        {
          "output_type": "stream",
          "name": "stdout",
          "text": [
            "stat KKU\n"
          ]
        }
      ]
    },
    {
      "cell_type": "code",
      "source": [
        "print('stat','KKU',sep='/')"
      ],
      "metadata": {
        "colab": {
          "base_uri": "https://localhost:8080/"
        },
        "id": "JKDXwhUu98g8",
        "outputId": "9464d691-2a37-44e6-f3fd-da430e44a06c"
      },
      "execution_count": 38,
      "outputs": [
        {
          "output_type": "stream",
          "name": "stdout",
          "text": [
            "stat/KKU\n"
          ]
        }
      ]
    },
    {
      "cell_type": "markdown",
      "source": [
        "### end (end)\n",
        "\n",
        "\n",
        "\n",
        "```\n",
        "Default is '\\n'\n",
        "```\n",
        "for example\n",
        "\n",
        "\n"
      ],
      "metadata": {
        "id": "SjbKTyhO-sXc"
      }
    },
    {
      "cell_type": "code",
      "source": [
        "print('stat')\n",
        "print('KKU')"
      ],
      "metadata": {
        "colab": {
          "base_uri": "https://localhost:8080/"
        },
        "id": "kBaAmiq_-Dtl",
        "outputId": "4c678239-8e0f-4058-e908-78b96ab2246f"
      },
      "execution_count": 39,
      "outputs": [
        {
          "output_type": "stream",
          "name": "stdout",
          "text": [
            "stat\n",
            "KKU\n"
          ]
        }
      ]
    },
    {
      "cell_type": "code",
      "source": [
        "print('stat',end='+-+')\n",
        "print('KKU')"
      ],
      "metadata": {
        "colab": {
          "base_uri": "https://localhost:8080/"
        },
        "id": "PUhgDUJC-mGu",
        "outputId": "078a27ed-54f7-431a-d6e2-b98124c46400"
      },
      "execution_count": 40,
      "outputs": [
        {
          "output_type": "stream",
          "name": "stdout",
          "text": [
            "stat+-+KKU\n"
          ]
        }
      ]
    },
    {
      "cell_type": "markdown",
      "source": [
        "## Variable types"
      ],
      "metadata": {
        "id": "pnuKktZj_aYP"
      }
    },
    {
      "cell_type": "markdown",
      "source": [
        "### char (character : ตัวอักษร)"
      ],
      "metadata": {
        "id": "DoYZ4x93_er8"
      }
    },
    {
      "cell_type": "markdown",
      "source": [
        "####  ```String + String``` mean plus char and another char\n",
        "\n"
      ],
      "metadata": {
        "id": "SrLiANLPAk9U"
      }
    },
    {
      "cell_type": "code",
      "source": [
        "a = 'C'"
      ],
      "metadata": {
        "id": "CdjcqOHG_kv8"
      },
      "execution_count": 41,
      "outputs": []
    },
    {
      "cell_type": "code",
      "source": [
        "b = 'hatacter'"
      ],
      "metadata": {
        "id": "uhJO9m9C_mCK"
      },
      "execution_count": 42,
      "outputs": []
    },
    {
      "cell_type": "code",
      "source": [
        "print(f'a={a} b={b}, then {a}+{b} = {a+b}') #string + string = เอามารวมกัน"
      ],
      "metadata": {
        "colab": {
          "base_uri": "https://localhost:8080/"
        },
        "id": "CkA49ZQk_wXs",
        "outputId": "8f37ea90-39eb-4171-bf17-a87d62199246"
      },
      "execution_count": 47,
      "outputs": [
        {
          "output_type": "stream",
          "name": "stdout",
          "text": [
            "a=C b=hatacter, then C+hatacter = Chatacter\n"
          ]
        }
      ]
    },
    {
      "cell_type": "code",
      "source": [],
      "metadata": {
        "id": "tyP4OvFaAjyp"
      },
      "execution_count": null,
      "outputs": []
    },
    {
      "cell_type": "code",
      "source": [
        "A ='c'\n",
        "B = 'a'"
      ],
      "metadata": {
        "id": "vBanCSC2_6hf"
      },
      "execution_count": 45,
      "outputs": []
    },
    {
      "cell_type": "code",
      "source": [
        "print(A+B)"
      ],
      "metadata": {
        "colab": {
          "base_uri": "https://localhost:8080/"
        },
        "id": "Dtg2uAdX_-jp",
        "outputId": "e3571456-de32-4198-d310-9c009725bf78"
      },
      "execution_count": 46,
      "outputs": [
        {
          "output_type": "stream",
          "name": "stdout",
          "text": [
            "ca\n"
          ]
        }
      ]
    },
    {
      "cell_type": "markdown",
      "source": [
        "####\n",
        "\n",
        "\n",
        " ```integer * char```mean multiple copies of the char"
      ],
      "metadata": {
        "id": "Oni4-2pSAaFj"
      }
    },
    {
      "cell_type": "code",
      "source": [
        "print(5*'T')"
      ],
      "metadata": {
        "colab": {
          "base_uri": "https://localhost:8080/"
        },
        "id": "3lnB0SYRAFtJ",
        "outputId": "140b525f-d886-4111-97d6-f1089595478d"
      },
      "execution_count": 48,
      "outputs": [
        {
          "output_type": "stream",
          "name": "stdout",
          "text": [
            "TTTTT\n"
          ]
        }
      ]
    },
    {
      "cell_type": "markdown",
      "source": [
        "## Quiz 1\n",
        "\n",
        "print Ha for 100 times with one print function"
      ],
      "metadata": {
        "id": "APmqR1RdBgya"
      }
    },
    {
      "cell_type": "code",
      "source": [
        "for i in [100] :\n",
        "  print(i*'Ha')"
      ],
      "metadata": {
        "colab": {
          "base_uri": "https://localhost:8080/"
        },
        "id": "FvoetH4JCBEX",
        "outputId": "05c00e93-7a65-4782-a57a-f7f8855d909c"
      },
      "execution_count": 54,
      "outputs": [
        {
          "output_type": "stream",
          "name": "stdout",
          "text": [
            "HaHaHaHaHaHaHaHaHaHaHaHaHaHaHaHaHaHaHaHaHaHaHaHaHaHaHaHaHaHaHaHaHaHaHaHaHaHaHaHaHaHaHaHaHaHaHaHaHaHaHaHaHaHaHaHaHaHaHaHaHaHaHaHaHaHaHaHaHaHaHaHaHaHaHaHaHaHaHaHaHaHaHaHaHaHaHaHaHaHaHaHaHaHaHaHaHaHaHaHa\n"
          ]
        }
      ]
    },
    {
      "cell_type": "code",
      "source": [
        "print(100*'Ha')"
      ],
      "metadata": {
        "colab": {
          "base_uri": "https://localhost:8080/"
        },
        "id": "YJ9QmnLnBqba",
        "outputId": "1f13865d-f7f4-4da7-95d7-0521e56276ba"
      },
      "execution_count": 51,
      "outputs": [
        {
          "output_type": "stream",
          "name": "stdout",
          "text": [
            "HaHaHaHaHaHaHaHaHaHaHaHaHaHaHaHaHaHaHaHaHaHaHaHaHaHaHaHaHaHaHaHaHaHaHaHaHaHaHaHaHaHaHaHaHaHaHaHaHaHaHaHaHaHaHaHaHaHaHaHaHaHaHaHaHaHaHaHaHaHaHaHaHaHaHaHaHaHaHaHaHaHaHaHaHaHaHaHaHaHaHaHaHaHaHaHaHaHaHaHa\n"
          ]
        }
      ]
    },
    {
      "cell_type": "code",
      "source": [
        "for i in ['Ha'] :\n",
        "  print(i,end=' ')"
      ],
      "metadata": {
        "id": "yWv5jK3NDKLa",
        "outputId": "53f0102a-d33c-4146-f7ea-31d2b0f5a9b0",
        "colab": {
          "base_uri": "https://localhost:8080/"
        }
      },
      "execution_count": 56,
      "outputs": [
        {
          "output_type": "stream",
          "name": "stdout",
          "text": [
            "Ha "
          ]
        }
      ]
    },
    {
      "cell_type": "code",
      "source": [
        "\n",
        "    for j in range (100):\n",
        "        Ha='Ha'\n",
        "        print(Ha)"
      ],
      "metadata": {
        "id": "6jBQf_yPDjeq",
        "outputId": "e9881f29-f054-4459-ea79-cb22f2081c4a",
        "colab": {
          "base_uri": "https://localhost:8080/"
        }
      },
      "execution_count": 60,
      "outputs": [
        {
          "output_type": "stream",
          "name": "stdout",
          "text": [
            "Ha\n",
            "Ha\n",
            "Ha\n",
            "Ha\n",
            "Ha\n",
            "Ha\n",
            "Ha\n",
            "Ha\n",
            "Ha\n",
            "Ha\n",
            "Ha\n",
            "Ha\n",
            "Ha\n",
            "Ha\n",
            "Ha\n",
            "Ha\n",
            "Ha\n",
            "Ha\n",
            "Ha\n",
            "Ha\n",
            "Ha\n",
            "Ha\n",
            "Ha\n",
            "Ha\n",
            "Ha\n",
            "Ha\n",
            "Ha\n",
            "Ha\n",
            "Ha\n",
            "Ha\n",
            "Ha\n",
            "Ha\n",
            "Ha\n",
            "Ha\n",
            "Ha\n",
            "Ha\n",
            "Ha\n",
            "Ha\n",
            "Ha\n",
            "Ha\n",
            "Ha\n",
            "Ha\n",
            "Ha\n",
            "Ha\n",
            "Ha\n",
            "Ha\n",
            "Ha\n",
            "Ha\n",
            "Ha\n",
            "Ha\n",
            "Ha\n",
            "Ha\n",
            "Ha\n",
            "Ha\n",
            "Ha\n",
            "Ha\n",
            "Ha\n",
            "Ha\n",
            "Ha\n",
            "Ha\n",
            "Ha\n",
            "Ha\n",
            "Ha\n",
            "Ha\n",
            "Ha\n",
            "Ha\n",
            "Ha\n",
            "Ha\n",
            "Ha\n",
            "Ha\n",
            "Ha\n",
            "Ha\n",
            "Ha\n",
            "Ha\n",
            "Ha\n",
            "Ha\n",
            "Ha\n",
            "Ha\n",
            "Ha\n",
            "Ha\n",
            "Ha\n",
            "Ha\n",
            "Ha\n",
            "Ha\n",
            "Ha\n",
            "Ha\n",
            "Ha\n",
            "Ha\n",
            "Ha\n",
            "Ha\n",
            "Ha\n",
            "Ha\n",
            "Ha\n",
            "Ha\n",
            "Ha\n",
            "Ha\n",
            "Ha\n",
            "Ha\n",
            "Ha\n",
            "Ha\n"
          ]
        }
      ]
    }
  ]
}