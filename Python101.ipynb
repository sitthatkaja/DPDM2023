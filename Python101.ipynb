{
  "nbformat": 4,
  "nbformat_minor": 0,
  "metadata": {
    "colab": {
      "provenance": [],
      "include_colab_link": true
    },
    "kernelspec": {
      "name": "python3",
      "display_name": "Python 3"
    },
    "language_info": {
      "name": "python"
    }
  },
  "cells": [
    {
      "cell_type": "markdown",
      "metadata": {
        "id": "view-in-github",
        "colab_type": "text"
      },
      "source": [
        "<a href=\"https://colab.research.google.com/github/sitthatkaja/DPDM2023/blob/main/Python101.ipynb\" target=\"_parent\"><img src=\"https://colab.research.google.com/assets/colab-badge.svg\" alt=\"Open In Colab\"/></a>"
      ]
    },
    {
      "cell_type": "markdown",
      "source": [
        "# Python101"
      ],
      "metadata": {
        "id": "VmGtCcGmO4nt"
      }
    },
    {
      "cell_type": "markdown",
      "source": [
        "# String manipulation and print statement\n",
        "\n",
        "การจัดการข้อมูลประเภท String"
      ],
      "metadata": {
        "id": "sUmW9DZPX9dY"
      }
    },
    {
      "cell_type": "markdown",
      "source": [
        "## Python example (ตัวอย่าง Python)"
      ],
      "metadata": {
        "id": "JUIWH8idYBIF"
      }
    },
    {
      "cell_type": "code",
      "source": [
        "for i in ['a','b','c'] :\n",
        "  print(i,end=' ')\n",
        "  print('/')\n",
        "  for j in range(10):\n",
        "    ccc=10"
      ],
      "metadata": {
        "colab": {
          "base_uri": "https://localhost:8080/"
        },
        "id": "dyfOsfVnX8zV",
        "outputId": "69c50419-43b0-4900-93a0-8bdf0fb4401f"
      },
      "execution_count": 1,
      "outputs": [
        {
          "output_type": "stream",
          "name": "stdout",
          "text": [
            "a /\n",
            "b /\n",
            "c /\n"
          ]
        }
      ]
    },
    {
      "cell_type": "code",
      "execution_count": 2,
      "metadata": {
        "colab": {
          "base_uri": "https://localhost:8080/"
        },
        "id": "UkqSZC68X4cg",
        "outputId": "e80db16e-519e-4c67-c147-4c2c8fe2d0ec"
      },
      "outputs": [
        {
          "output_type": "stream",
          "name": "stdout",
          "text": [
            "a /\n",
            "10\n",
            "10\n",
            "10\n",
            "10\n",
            "10\n",
            "10\n",
            "10\n",
            "10\n",
            "10\n",
            "10\n",
            "b /\n",
            "10\n",
            "10\n",
            "10\n",
            "10\n",
            "10\n",
            "10\n",
            "10\n",
            "10\n",
            "10\n",
            "10\n",
            "c /\n",
            "10\n",
            "10\n",
            "10\n",
            "10\n",
            "10\n",
            "10\n",
            "10\n",
            "10\n",
            "10\n",
            "10\n"
          ]
        }
      ],
      "source": [
        "for i in ['a','b','c']:\n",
        "    print(i,end=' ')\n",
        "    print('/')\n",
        "    for j in range (10):\n",
        "        ccc=10\n",
        "        print(ccc)"
      ]
    },
    {
      "cell_type": "markdown",
      "source": [
        "## String(text) ข้อมูลประเภท String"
      ],
      "metadata": {
        "id": "mgTqdqC-YbVr"
      }
    },
    {
      "cell_type": "code",
      "source": [
        "text1 = \"Stat\""
      ],
      "metadata": {
        "id": "Aki52LSMYeGR"
      },
      "execution_count": 3,
      "outputs": []
    },
    {
      "cell_type": "code",
      "source": [
        "text2 = 'KKU'"
      ],
      "metadata": {
        "id": "DXqpcfVVYhNf"
      },
      "execution_count": 4,
      "outputs": []
    },
    {
      "cell_type": "code",
      "source": [
        "print(text1)"
      ],
      "metadata": {
        "colab": {
          "base_uri": "https://localhost:8080/"
        },
        "id": "gYbLncc1Yhwy",
        "outputId": "3aae72f5-6b5e-4a93-c531-65286c70170a"
      },
      "execution_count": 5,
      "outputs": [
        {
          "output_type": "stream",
          "name": "stdout",
          "text": [
            "Stat\n"
          ]
        }
      ]
    },
    {
      "cell_type": "markdown",
      "source": [
        "เราสามารถนำ String + String ได้"
      ],
      "metadata": {
        "id": "w78M592zPNl3"
      }
    },
    {
      "cell_type": "code",
      "source": [
        "print(text1+text2)"
      ],
      "metadata": {
        "colab": {
          "base_uri": "https://localhost:8080/"
        },
        "id": "mZZ3M0wbYkru",
        "outputId": "3d4d229b-6410-41be-e1d3-d1e2fe650607"
      },
      "execution_count": 6,
      "outputs": [
        {
          "output_type": "stream",
          "name": "stdout",
          "text": [
            "StatKKU\n"
          ]
        }
      ]
    },
    {
      "cell_type": "markdown",
      "source": [
        "แต่ไม่สามารถ + ตัวเลขได้"
      ],
      "metadata": {
        "id": "z_z8I5lTPRyK"
      }
    },
    {
      "cell_type": "code",
      "source": [
        "print(text1 + 5)"
      ],
      "metadata": {
        "colab": {
          "base_uri": "https://localhost:8080/",
          "height": 175
        },
        "id": "zRL7x7KpYquR",
        "outputId": "e67df2d9-37f5-4522-9932-f53cc49ce6fe"
      },
      "execution_count": 7,
      "outputs": [
        {
          "output_type": "error",
          "ename": "TypeError",
          "evalue": "ignored",
          "traceback": [
            "\u001b[0;31m---------------------------------------------------------------------------\u001b[0m",
            "\u001b[0;31mTypeError\u001b[0m                                 Traceback (most recent call last)",
            "\u001b[0;32m<ipython-input-7-bc6446dfb353>\u001b[0m in \u001b[0;36m<cell line: 1>\u001b[0;34m()\u001b[0m\n\u001b[0;32m----> 1\u001b[0;31m \u001b[0mprint\u001b[0m\u001b[0;34m(\u001b[0m\u001b[0mtext1\u001b[0m \u001b[0;34m+\u001b[0m \u001b[0;36m5\u001b[0m\u001b[0;34m)\u001b[0m\u001b[0;34m\u001b[0m\u001b[0;34m\u001b[0m\u001b[0m\n\u001b[0m",
            "\u001b[0;31mTypeError\u001b[0m: can only concatenate str (not \"int\") to str"
          ]
        }
      ]
    },
    {
      "cell_type": "code",
      "source": [
        "print(5 + text1)"
      ],
      "metadata": {
        "colab": {
          "base_uri": "https://localhost:8080/",
          "height": 175
        },
        "id": "-llIefCzYtaH",
        "outputId": "5b51f947-a3c5-4ecf-9b69-1b06554daaca"
      },
      "execution_count": 9,
      "outputs": [
        {
          "output_type": "error",
          "ename": "TypeError",
          "evalue": "ignored",
          "traceback": [
            "\u001b[0;31m---------------------------------------------------------------------------\u001b[0m",
            "\u001b[0;31mTypeError\u001b[0m                                 Traceback (most recent call last)",
            "\u001b[0;32m<ipython-input-9-315351ee8dfd>\u001b[0m in \u001b[0;36m<cell line: 1>\u001b[0;34m()\u001b[0m\n\u001b[0;32m----> 1\u001b[0;31m \u001b[0mprint\u001b[0m\u001b[0;34m(\u001b[0m\u001b[0;36m5\u001b[0m \u001b[0;34m+\u001b[0m \u001b[0mtext1\u001b[0m\u001b[0;34m)\u001b[0m\u001b[0;34m\u001b[0m\u001b[0;34m\u001b[0m\u001b[0m\n\u001b[0m",
            "\u001b[0;31mTypeError\u001b[0m: unsupported operand type(s) for +: 'int' and 'str'"
          ]
        }
      ]
    },
    {
      "cell_type": "markdown",
      "source": [
        "## Variable (ตัวแปร)\n",
        "\n",
        "สำหรับการเก็บข้อมูลไว้ในตัวแปรนั้นๆไว้"
      ],
      "metadata": {
        "id": "v07ynnoVYwSR"
      }
    },
    {
      "cell_type": "code",
      "source": [
        "a = 5 #int\n",
        "print(a)"
      ],
      "metadata": {
        "colab": {
          "base_uri": "https://localhost:8080/"
        },
        "id": "sG2g9sdjY43v",
        "outputId": "b7f4aa57-7514-4795-b7e9-5854976be2d4"
      },
      "execution_count": 12,
      "outputs": [
        {
          "output_type": "stream",
          "name": "stdout",
          "text": [
            "5\n"
          ]
        }
      ]
    },
    {
      "cell_type": "code",
      "source": [
        "b = 5.7 #float\n",
        "print(b)"
      ],
      "metadata": {
        "colab": {
          "base_uri": "https://localhost:8080/"
        },
        "id": "4USxTM0QY6fq",
        "outputId": "6753f8df-515b-4fee-ff0f-fa26a6cdc3a1"
      },
      "execution_count": 13,
      "outputs": [
        {
          "output_type": "stream",
          "name": "stdout",
          "text": [
            "5.7\n"
          ]
        }
      ]
    },
    {
      "cell_type": "code",
      "source": [
        "c = a-b\n",
        "print(c)"
      ],
      "metadata": {
        "colab": {
          "base_uri": "https://localhost:8080/"
        },
        "id": "DNM5bnjtY7yJ",
        "outputId": "3b1897e0-b88c-4813-c321-b71e6119a3ef"
      },
      "execution_count": 14,
      "outputs": [
        {
          "output_type": "stream",
          "name": "stdout",
          "text": [
            "-0.7000000000000002\n"
          ]
        }
      ]
    },
    {
      "cell_type": "markdown",
      "source": [
        "## ข้อกำหนดในการตั้งชื่อตัวแปร\n",
        "1. ตั้งให้สื่อความหมาย\n",
        "2. ตั้งให้เป็นภาษาอังกฤษ\n",
        "3. ใช้ตัวเลขผสมกับตัวหนังสือได้ แต่ห้ามขึ้นต้นด้วยตัวเลข\n",
        "4. ห้ามมีเว้นวรรคในชื่อตัวแปร\n",
        "5. ตัวใหญ่ ตัวเล็กค่าไม่เท่ากัน\n",
        "\n",
        "\n",
        "## variable naming rules\n",
        "1. Try to use meaningful word\n",
        "2. Do it in English\n",
        "3. You can use number in variable name the name connot atart with number\n",
        "4. there should be no space in the name\n",
        "5. variable name is case-sensitive (Abc is not equal to ABC)"
      ],
      "metadata": {
        "id": "Y-WakksGY-qa"
      }
    },
    {
      "cell_type": "markdown",
      "source": [
        "##Advanced printing\n",
        "\n",
        "(การแสดงผลแบบ Advance)"
      ],
      "metadata": {
        "id": "MEflkU7kZRHh"
      }
    },
    {
      "cell_type": "code",
      "source": [
        "print(f'six plus five = {6+5}')"
      ],
      "metadata": {
        "colab": {
          "base_uri": "https://localhost:8080/"
        },
        "id": "C5A30Uq5ZmAB",
        "outputId": "61fa64bb-9fc2-4a8f-c96a-73c19e6272c8"
      },
      "execution_count": 15,
      "outputs": [
        {
          "output_type": "stream",
          "name": "stdout",
          "text": [
            "six plus five = 11\n"
          ]
        }
      ]
    },
    {
      "cell_type": "code",
      "source": [
        "print(f'six plus five = {6+5:.2f}') # .2f หมายถึงทำเป็นทศนิยม 2 ตำแหน่ง"
      ],
      "metadata": {
        "colab": {
          "base_uri": "https://localhost:8080/"
        },
        "id": "7uE5avqdZ4Lo",
        "outputId": "50f1c835-ccd1-4ccd-fd69-034e8b4591f0"
      },
      "execution_count": 16,
      "outputs": [
        {
          "output_type": "stream",
          "name": "stdout",
          "text": [
            "six plus five = 11.00\n"
          ]
        }
      ]
    },
    {
      "cell_type": "code",
      "source": [
        "print(f'six plus five = {6+5:.2f}%') # % หมายถึงเป็น %"
      ],
      "metadata": {
        "colab": {
          "base_uri": "https://localhost:8080/"
        },
        "id": "0bZygJghZnsP",
        "outputId": "ce8c6a40-b8c0-4cc8-be2a-2f3d540bbfa5"
      },
      "execution_count": 17,
      "outputs": [
        {
          "output_type": "stream",
          "name": "stdout",
          "text": [
            "six plus five = 11.00%\n"
          ]
        }
      ]
    },
    {
      "cell_type": "code",
      "source": [
        "print(f'six plus five = {6+5:3.0f}%') # .0 หมายถึง ไม่เอาทศนิยม"
      ],
      "metadata": {
        "colab": {
          "base_uri": "https://localhost:8080/"
        },
        "id": "YovMbr3zZo4p",
        "outputId": "101cb6e0-dfdf-4a8d-b2d8-cfe199640246"
      },
      "execution_count": 18,
      "outputs": [
        {
          "output_type": "stream",
          "name": "stdout",
          "text": [
            "six plus five =  11%\n"
          ]
        }
      ]
    },
    {
      "cell_type": "code",
      "source": [
        "print(f'six plus five = {6+5:03d}') #แสดงผลลัพธ์ 3 หลัก"
      ],
      "metadata": {
        "colab": {
          "base_uri": "https://localhost:8080/"
        },
        "id": "ZqEvgTlFZqTi",
        "outputId": "3562e4f9-b91b-4738-a461-a8da16a637f9"
      },
      "execution_count": 19,
      "outputs": [
        {
          "output_type": "stream",
          "name": "stdout",
          "text": [
            "six plus five = 011\n"
          ]
        }
      ]
    },
    {
      "cell_type": "code",
      "source": [
        "st1 = f'six plus five = {6+5:03d}' #เก็บข้อมูลใน st1"
      ],
      "metadata": {
        "id": "Xk6sLHDoZ-5l"
      },
      "execution_count": 20,
      "outputs": []
    },
    {
      "cell_type": "code",
      "source": [
        "st1 #แสดงผลออกมา"
      ],
      "metadata": {
        "colab": {
          "base_uri": "https://localhost:8080/",
          "height": 36
        },
        "id": "07IuSmjnaAbw",
        "outputId": "9ca69edc-e273-4cde-f9d7-e0e3c4bd024f"
      },
      "execution_count": 21,
      "outputs": [
        {
          "output_type": "execute_result",
          "data": {
            "text/plain": [
              "'six plus five = 011'"
            ],
            "application/vnd.google.colaboratory.intrinsic+json": {
              "type": "string"
            }
          },
          "metadata": {},
          "execution_count": 21
        }
      ]
    },
    {
      "cell_type": "markdown",
      "source": [
        "4/7/2566\n",
        "\n",
        "\n",
        "```\n",
        "print(object(s), sep=separator, end=end, file=file, flush=flush)\n",
        "\n",
        "(s) is mean compel (บังคับ)\n",
        "without (s) is mean optional,it have default value (ไม่บังคับและมีค่า default อยู่่แล้ว)\n",
        "```\n",
        "\n"
      ],
      "metadata": {
        "id": "uQcYWHgS9Ob9"
      }
    },
    {
      "cell_type": "code",
      "source": [
        "print('stat')"
      ],
      "metadata": {
        "colab": {
          "base_uri": "https://localhost:8080/"
        },
        "id": "BsXZG3Xk6vZK",
        "outputId": "fd725e73-a5da-46dc-fd44-8bef11a8851d"
      },
      "execution_count": 22,
      "outputs": [
        {
          "output_type": "stream",
          "name": "stdout",
          "text": [
            "stat\n"
          ]
        }
      ]
    },
    {
      "cell_type": "markdown",
      "source": [
        "### separator (sep) คือการแบ่งข้อมูลด้วยคำสั่ง ทั้งช่องว่างและ /\n",
        "\n",
        "\n",
        "```\n",
        "Default is ' '\n",
        "```\n",
        "for example\n"
      ],
      "metadata": {
        "id": "VPmUaNBN-oDq"
      }
    },
    {
      "cell_type": "code",
      "source": [
        "print('stat','KKU') #มีช่องว่างถ้าใส่ ,"
      ],
      "metadata": {
        "colab": {
          "base_uri": "https://localhost:8080/"
        },
        "id": "58d2OykL9uLV",
        "outputId": "a2b6817f-46de-4f7d-ab7b-491d44d7eca0"
      },
      "execution_count": 23,
      "outputs": [
        {
          "output_type": "stream",
          "name": "stdout",
          "text": [
            "stat KKU\n"
          ]
        }
      ]
    },
    {
      "cell_type": "code",
      "source": [
        "print('stat','KKU',sep='/')"
      ],
      "metadata": {
        "colab": {
          "base_uri": "https://localhost:8080/"
        },
        "id": "JKDXwhUu98g8",
        "outputId": "b5d93472-48d2-4f41-d646-88ec35b1c16e"
      },
      "execution_count": 24,
      "outputs": [
        {
          "output_type": "stream",
          "name": "stdout",
          "text": [
            "stat/KKU\n"
          ]
        }
      ]
    },
    {
      "cell_type": "markdown",
      "source": [
        "### end (end) ไว้สำหรับการขึ้นบรรทัดใหม่หรือการเพิ่มตัวอักษร\n",
        "\n",
        "\n",
        "\n",
        "```\n",
        "Default is '\\n'\n",
        "```\n",
        "for example\n",
        "\n",
        "\n"
      ],
      "metadata": {
        "id": "SjbKTyhO-sXc"
      }
    },
    {
      "cell_type": "code",
      "source": [
        "print('stat')\n",
        "print('KKU')"
      ],
      "metadata": {
        "colab": {
          "base_uri": "https://localhost:8080/"
        },
        "id": "kBaAmiq_-Dtl",
        "outputId": "a3ab767b-e0b0-4ef7-a67d-49d8bb2171ef"
      },
      "execution_count": 25,
      "outputs": [
        {
          "output_type": "stream",
          "name": "stdout",
          "text": [
            "stat\n",
            "KKU\n"
          ]
        }
      ]
    },
    {
      "cell_type": "code",
      "source": [
        "print('stat',end='+-+')\n",
        "print('KKU')"
      ],
      "metadata": {
        "colab": {
          "base_uri": "https://localhost:8080/"
        },
        "id": "PUhgDUJC-mGu",
        "outputId": "614b0cf0-9d0d-4d3c-8de3-34d2c0f89537"
      },
      "execution_count": 26,
      "outputs": [
        {
          "output_type": "stream",
          "name": "stdout",
          "text": [
            "stat+-+KKU\n"
          ]
        }
      ]
    },
    {
      "cell_type": "markdown",
      "source": [
        "## Variable types ประเภทตัวแปร"
      ],
      "metadata": {
        "id": "pnuKktZj_aYP"
      }
    },
    {
      "cell_type": "markdown",
      "source": [
        "### char (character : ตัวอักษร)"
      ],
      "metadata": {
        "id": "DoYZ4x93_er8"
      }
    },
    {
      "cell_type": "markdown",
      "source": [
        "####  ```String + String``` mean plus char and another char ตัวอักษร + ตัวอักษรได้\n",
        "\n"
      ],
      "metadata": {
        "id": "SrLiANLPAk9U"
      }
    },
    {
      "cell_type": "code",
      "source": [
        "a = 'C'"
      ],
      "metadata": {
        "id": "CdjcqOHG_kv8"
      },
      "execution_count": 27,
      "outputs": []
    },
    {
      "cell_type": "code",
      "source": [
        "b = 'hatacter'"
      ],
      "metadata": {
        "id": "uhJO9m9C_mCK"
      },
      "execution_count": 28,
      "outputs": []
    },
    {
      "cell_type": "code",
      "source": [
        "print(f'a={a} b={b}, then {a}+{b} = {a+b}') #string + string = เอามารวมกัน"
      ],
      "metadata": {
        "colab": {
          "base_uri": "https://localhost:8080/"
        },
        "id": "CkA49ZQk_wXs",
        "outputId": "67c58e8e-f4a0-4986-c1a8-e2cbbd93bdbd"
      },
      "execution_count": 29,
      "outputs": [
        {
          "output_type": "stream",
          "name": "stdout",
          "text": [
            "a=C b=hatacter, then C+hatacter = Chatacter\n"
          ]
        }
      ]
    },
    {
      "cell_type": "code",
      "source": [],
      "metadata": {
        "id": "tyP4OvFaAjyp"
      },
      "execution_count": 29,
      "outputs": []
    },
    {
      "cell_type": "code",
      "source": [
        "A ='c'\n",
        "B = 'a'"
      ],
      "metadata": {
        "id": "vBanCSC2_6hf"
      },
      "execution_count": 30,
      "outputs": []
    },
    {
      "cell_type": "code",
      "source": [
        "print(A+B)"
      ],
      "metadata": {
        "colab": {
          "base_uri": "https://localhost:8080/"
        },
        "id": "Dtg2uAdX_-jp",
        "outputId": "15179914-38e7-4dc6-9a74-935a5f1688ed"
      },
      "execution_count": 31,
      "outputs": [
        {
          "output_type": "stream",
          "name": "stdout",
          "text": [
            "ca\n"
          ]
        }
      ]
    },
    {
      "cell_type": "markdown",
      "source": [
        "####```integer * char```mean multiple copies of the char หรือสามารถคูณตัวอักษรเพื่อแสดงผลเท่าผลคูณได้"
      ],
      "metadata": {
        "id": "Oni4-2pSAaFj"
      }
    },
    {
      "cell_type": "code",
      "source": [
        "print(5*'T')"
      ],
      "metadata": {
        "colab": {
          "base_uri": "https://localhost:8080/"
        },
        "id": "3lnB0SYRAFtJ",
        "outputId": "ccb5b17d-f863-4dcf-bb7a-c59557f4983a"
      },
      "execution_count": 32,
      "outputs": [
        {
          "output_type": "stream",
          "name": "stdout",
          "text": [
            "TTTTT\n"
          ]
        }
      ]
    },
    {
      "cell_type": "markdown",
      "source": [
        "***\n",
        "**Quiz 1**\n",
        "\n",
        "print Ha for 100 times with one print function"
      ],
      "metadata": {
        "id": "APmqR1RdBgya"
      }
    },
    {
      "cell_type": "code",
      "source": [
        "for i in [100] :\n",
        "  print(i*'Ha')"
      ],
      "metadata": {
        "colab": {
          "base_uri": "https://localhost:8080/"
        },
        "id": "FvoetH4JCBEX",
        "outputId": "9636c2a4-0197-45fb-df03-c142a3f5a2aa"
      },
      "execution_count": 33,
      "outputs": [
        {
          "output_type": "stream",
          "name": "stdout",
          "text": [
            "HaHaHaHaHaHaHaHaHaHaHaHaHaHaHaHaHaHaHaHaHaHaHaHaHaHaHaHaHaHaHaHaHaHaHaHaHaHaHaHaHaHaHaHaHaHaHaHaHaHaHaHaHaHaHaHaHaHaHaHaHaHaHaHaHaHaHaHaHaHaHaHaHaHaHaHaHaHaHaHaHaHaHaHaHaHaHaHaHaHaHaHaHaHaHaHaHaHaHaHa\n"
          ]
        }
      ]
    },
    {
      "cell_type": "code",
      "source": [
        "print(100*'Ha')"
      ],
      "metadata": {
        "colab": {
          "base_uri": "https://localhost:8080/"
        },
        "id": "YJ9QmnLnBqba",
        "outputId": "7c1f3470-fbf0-494d-b357-b65bb0294f6f"
      },
      "execution_count": 34,
      "outputs": [
        {
          "output_type": "stream",
          "name": "stdout",
          "text": [
            "HaHaHaHaHaHaHaHaHaHaHaHaHaHaHaHaHaHaHaHaHaHaHaHaHaHaHaHaHaHaHaHaHaHaHaHaHaHaHaHaHaHaHaHaHaHaHaHaHaHaHaHaHaHaHaHaHaHaHaHaHaHaHaHaHaHaHaHaHaHaHaHaHaHaHaHaHaHaHaHaHaHaHaHaHaHaHaHaHaHaHaHaHaHaHaHaHaHaHaHa\n"
          ]
        }
      ]
    },
    {
      "cell_type": "code",
      "source": [
        "for i in ['Ha'] :\n",
        "  print(i,end=' ')"
      ],
      "metadata": {
        "id": "yWv5jK3NDKLa",
        "outputId": "14ec284e-172e-4704-dd45-44110b3930b1",
        "colab": {
          "base_uri": "https://localhost:8080/"
        }
      },
      "execution_count": 35,
      "outputs": [
        {
          "output_type": "stream",
          "name": "stdout",
          "text": [
            "Ha "
          ]
        }
      ]
    },
    {
      "cell_type": "code",
      "source": [
        "\n",
        "    for j in range (100):\n",
        "        Ha='Ha'\n",
        "        print(Ha)"
      ],
      "metadata": {
        "id": "6jBQf_yPDjeq",
        "outputId": "7a2cfdf5-bbee-4247-d7ea-f1b071c1419c",
        "colab": {
          "base_uri": "https://localhost:8080/"
        }
      },
      "execution_count": 36,
      "outputs": [
        {
          "output_type": "stream",
          "name": "stdout",
          "text": [
            "Ha\n",
            "Ha\n",
            "Ha\n",
            "Ha\n",
            "Ha\n",
            "Ha\n",
            "Ha\n",
            "Ha\n",
            "Ha\n",
            "Ha\n",
            "Ha\n",
            "Ha\n",
            "Ha\n",
            "Ha\n",
            "Ha\n",
            "Ha\n",
            "Ha\n",
            "Ha\n",
            "Ha\n",
            "Ha\n",
            "Ha\n",
            "Ha\n",
            "Ha\n",
            "Ha\n",
            "Ha\n",
            "Ha\n",
            "Ha\n",
            "Ha\n",
            "Ha\n",
            "Ha\n",
            "Ha\n",
            "Ha\n",
            "Ha\n",
            "Ha\n",
            "Ha\n",
            "Ha\n",
            "Ha\n",
            "Ha\n",
            "Ha\n",
            "Ha\n",
            "Ha\n",
            "Ha\n",
            "Ha\n",
            "Ha\n",
            "Ha\n",
            "Ha\n",
            "Ha\n",
            "Ha\n",
            "Ha\n",
            "Ha\n",
            "Ha\n",
            "Ha\n",
            "Ha\n",
            "Ha\n",
            "Ha\n",
            "Ha\n",
            "Ha\n",
            "Ha\n",
            "Ha\n",
            "Ha\n",
            "Ha\n",
            "Ha\n",
            "Ha\n",
            "Ha\n",
            "Ha\n",
            "Ha\n",
            "Ha\n",
            "Ha\n",
            "Ha\n",
            "Ha\n",
            "Ha\n",
            "Ha\n",
            "Ha\n",
            "Ha\n",
            "Ha\n",
            "Ha\n",
            "Ha\n",
            "Ha\n",
            "Ha\n",
            "Ha\n",
            "Ha\n",
            "Ha\n",
            "Ha\n",
            "Ha\n",
            "Ha\n",
            "Ha\n",
            "Ha\n",
            "Ha\n",
            "Ha\n",
            "Ha\n",
            "Ha\n",
            "Ha\n",
            "Ha\n",
            "Ha\n",
            "Ha\n",
            "Ha\n",
            "Ha\n",
            "Ha\n",
            "Ha\n",
            "Ha\n"
          ]
        }
      ]
    },
    {
      "cell_type": "markdown",
      "source": [
        "***"
      ],
      "metadata": {
        "id": "lCDC9HlrGtxM"
      }
    },
    {
      "cell_type": "markdown",
      "source": [
        "### Int(eger) (จำนวนเต็ม)\n",
        "\n",
        "สำหรับการแสดงข้อมูลจำนวนเต็มเท่านั้น"
      ],
      "metadata": {
        "id": "nm_V6REpF_rN"
      }
    },
    {
      "cell_type": "code",
      "source": [
        "int_a = 7\n",
        "int_b = 2"
      ],
      "metadata": {
        "id": "WfDIV_xGFupZ"
      },
      "execution_count": 37,
      "outputs": []
    },
    {
      "cell_type": "code",
      "source": [
        "print(type(int_a),type(int_b))"
      ],
      "metadata": {
        "id": "KbcyJutkGOdt",
        "outputId": "fcb33c3e-a422-49a1-b8ee-7eeeb084aef8",
        "colab": {
          "base_uri": "https://localhost:8080/"
        }
      },
      "execution_count": 38,
      "outputs": [
        {
          "output_type": "stream",
          "name": "stdout",
          "text": [
            "<class 'int'> <class 'int'>\n"
          ]
        }
      ]
    },
    {
      "cell_type": "code",
      "source": [
        "int_c = int_a + int_b #assign the value as the output of operation\n",
        "print(int_c)"
      ],
      "metadata": {
        "id": "u7nN1IsnGW3Q",
        "outputId": "cfb47c3e-7d70-4934-c80c-08665e2e3e20",
        "colab": {
          "base_uri": "https://localhost:8080/"
        }
      },
      "execution_count": 39,
      "outputs": [
        {
          "output_type": "stream",
          "name": "stdout",
          "text": [
            "9\n"
          ]
        }
      ]
    },
    {
      "cell_type": "markdown",
      "source": [
        "### Float (จำนวนจริง ทศนิยม)\n",
        "\n",
        "สำหรับการแสดงข้อมูลที่เป็นทศนิยมได้"
      ],
      "metadata": {
        "id": "mPMNOOD3GmWo"
      }
    },
    {
      "cell_type": "code",
      "source": [
        "fl_a = 7. #ใส่ . สามารถทำให้เป็นค่าทศนิยมได้\n",
        "fl_b = 2.571"
      ],
      "metadata": {
        "id": "7XZPSOy_GdgY"
      },
      "execution_count": 40,
      "outputs": []
    },
    {
      "cell_type": "code",
      "source": [
        "print(type(fl_a),type(fl_b))"
      ],
      "metadata": {
        "id": "HYRCz1iAG-vm",
        "outputId": "3df0c2db-dff7-4627-ec47-e1b58d9bbb60",
        "colab": {
          "base_uri": "https://localhost:8080/"
        }
      },
      "execution_count": 41,
      "outputs": [
        {
          "output_type": "stream",
          "name": "stdout",
          "text": [
            "<class 'float'> <class 'float'>\n"
          ]
        }
      ]
    },
    {
      "cell_type": "code",
      "source": [
        "fl_a"
      ],
      "metadata": {
        "id": "DPRki3o2HKJz",
        "outputId": "59fe4c38-ed6f-4a9a-8a7c-55f71609f323",
        "colab": {
          "base_uri": "https://localhost:8080/"
        }
      },
      "execution_count": 42,
      "outputs": [
        {
          "output_type": "execute_result",
          "data": {
            "text/plain": [
              "7.0"
            ]
          },
          "metadata": {},
          "execution_count": 42
        }
      ]
    },
    {
      "cell_type": "code",
      "source": [
        "fl_b"
      ],
      "metadata": {
        "id": "JS_6KNb8HNGG",
        "outputId": "e3367fc9-f401-4dec-91b1-e05eca3f22f1",
        "colab": {
          "base_uri": "https://localhost:8080/"
        }
      },
      "execution_count": 43,
      "outputs": [
        {
          "output_type": "execute_result",
          "data": {
            "text/plain": [
              "2.571"
            ]
          },
          "metadata": {},
          "execution_count": 43
        }
      ]
    },
    {
      "cell_type": "markdown",
      "source": [
        "###Boolean (ตัวแปรที่มีค่า true หรือ False) ตรรกศาสตร์มีแค่ 2 ค่าเท่านั้นคือ True และ False"
      ],
      "metadata": {
        "id": "BbsoMwn1HT7p"
      }
    },
    {
      "cell_type": "code",
      "source": [
        "b_T = True"
      ],
      "metadata": {
        "id": "AHwxT4uuHnO9"
      },
      "execution_count": 44,
      "outputs": []
    },
    {
      "cell_type": "code",
      "source": [
        "b_F = False"
      ],
      "metadata": {
        "id": "tRFaz9SHHtfE"
      },
      "execution_count": 45,
      "outputs": []
    },
    {
      "cell_type": "markdown",
      "source": [
        "all of equation (สัญลักษณ์สำหรับตรรกศาสตร์)\n",
        "\n",
        "```\n",
        "== is equal\n",
        "\n",
        "!= is not equal\n",
        "\n",
        "> is geater than\n",
        "\n",
        "<= is less than or equal\n",
        "\n",
        "| is or\n",
        "\n",
        "& is and\n",
        "```\n",
        "\n"
      ],
      "metadata": {
        "id": "kg8dghdFHwPx"
      }
    },
    {
      "cell_type": "code",
      "source": [
        "b_T | b_F"
      ],
      "metadata": {
        "id": "VYPNz4_1Hvj6",
        "outputId": "99964407-6027-4aeb-e3ef-f6259480705d",
        "colab": {
          "base_uri": "https://localhost:8080/"
        }
      },
      "execution_count": 46,
      "outputs": [
        {
          "output_type": "execute_result",
          "data": {
            "text/plain": [
              "True"
            ]
          },
          "metadata": {},
          "execution_count": 46
        }
      ]
    },
    {
      "cell_type": "markdown",
      "source": [
        "### Complex number (จำนวนเชิงซ้อน)"
      ],
      "metadata": {
        "id": "nKDDMUcrIUiU"
      }
    },
    {
      "cell_type": "code",
      "source": [
        "x = 1+ 2j"
      ],
      "metadata": {
        "id": "cvZgCS4SIScD"
      },
      "execution_count": 47,
      "outputs": []
    },
    {
      "cell_type": "markdown",
      "source": [
        "we can check the datatype with type()"
      ],
      "metadata": {
        "id": "j0KZNNl6IdSS"
      }
    },
    {
      "cell_type": "code",
      "source": [
        "print (f'variable x value is {x} and datatype is {type(x)}')"
      ],
      "metadata": {
        "id": "b5x8UpvwIbxY",
        "outputId": "5299bf40-137f-4c74-fcc4-6aac9c86c89d",
        "colab": {
          "base_uri": "https://localhost:8080/"
        }
      },
      "execution_count": 48,
      "outputs": [
        {
          "output_type": "stream",
          "name": "stdout",
          "text": [
            "variable x value is (1+2j) and datatype is <class 'complex'>\n"
          ]
        }
      ]
    },
    {
      "cell_type": "code",
      "source": [
        "print (f'ตัวแปร A ค่าคือ {A} ชนิด {type(A)}')"
      ],
      "metadata": {
        "id": "XQQqGZLcIxxM",
        "outputId": "fd2f339f-34cc-421b-a29f-8bae1cf84c94",
        "colab": {
          "base_uri": "https://localhost:8080/"
        }
      },
      "execution_count": 49,
      "outputs": [
        {
          "output_type": "stream",
          "name": "stdout",
          "text": [
            "ตัวแปร A ค่าคือ c ชนิด <class 'str'>\n"
          ]
        }
      ]
    },
    {
      "cell_type": "code",
      "source": [
        "print (f'ตัวแปร a ค่าคือ {a} ชนิด {type(a)}')"
      ],
      "metadata": {
        "id": "ItVhvTShI5ek",
        "outputId": "6a77f93b-7ea9-4d15-8f0e-b559a1de6887",
        "colab": {
          "base_uri": "https://localhost:8080/"
        }
      },
      "execution_count": 50,
      "outputs": [
        {
          "output_type": "stream",
          "name": "stdout",
          "text": [
            "ตัวแปร a ค่าคือ C ชนิด <class 'str'>\n"
          ]
        }
      ]
    },
    {
      "cell_type": "markdown",
      "source": [
        "##การแปลงชนิดของตัวแปร (Variable Casting)"
      ],
      "metadata": {
        "id": "joXu_ngYJQJ3"
      }
    },
    {
      "cell_type": "code",
      "source": [
        "print(f'int a = {int_a} int_b = {int_b} Fl_a {fl_a} Fl_b={fl_b}')"
      ],
      "metadata": {
        "id": "j5Pej_rkJPwh",
        "outputId": "e106bad7-4099-4129-b722-a34b13dbb465",
        "colab": {
          "base_uri": "https://localhost:8080/"
        }
      },
      "execution_count": 51,
      "outputs": [
        {
          "output_type": "stream",
          "name": "stdout",
          "text": [
            "int a = 7 int_b = 2 Fl_a 7.0 Fl_b=2.571\n"
          ]
        }
      ]
    },
    {
      "cell_type": "code",
      "source": [
        "str_a = '6'\n",
        "str_b = '-2'"
      ],
      "metadata": {
        "id": "4m5QSvrVJ5TR"
      },
      "execution_count": 52,
      "outputs": []
    },
    {
      "cell_type": "code",
      "source": [
        "str_a2int = int(str_a) # Transform string into int แปลงค่าจาก String เป็น int\n",
        "print(f'ตัวแปร str_a2int ค่าคือ {str_a2int} ชนิด {type(str_a2int)}')"
      ],
      "metadata": {
        "id": "G2S-qjanJ_4A",
        "outputId": "93191629-8953-4c0f-a01f-41877450ef74",
        "colab": {
          "base_uri": "https://localhost:8080/"
        }
      },
      "execution_count": 53,
      "outputs": [
        {
          "output_type": "stream",
          "name": "stdout",
          "text": [
            "ตัวแปร str_a2int ค่าคือ 6 ชนิด <class 'int'>\n"
          ]
        }
      ]
    },
    {
      "cell_type": "code",
      "source": [
        "str_a2int + int_a"
      ],
      "metadata": {
        "id": "_KFJn3ZvKWuz",
        "outputId": "430f91d7-d4bd-4204-e9be-2855fca9e772",
        "colab": {
          "base_uri": "https://localhost:8080/"
        }
      },
      "execution_count": 54,
      "outputs": [
        {
          "output_type": "execute_result",
          "data": {
            "text/plain": [
              "13"
            ]
          },
          "metadata": {},
          "execution_count": 54
        }
      ]
    },
    {
      "cell_type": "code",
      "source": [
        "str_a + int_a #ไม่สามารถนำ string + int ได้"
      ],
      "metadata": {
        "id": "NyZfTn8DKibW",
        "outputId": "78420ba8-4273-480f-896c-be16b347d365",
        "colab": {
          "base_uri": "https://localhost:8080/",
          "height": 175
        }
      },
      "execution_count": 55,
      "outputs": [
        {
          "output_type": "error",
          "ename": "TypeError",
          "evalue": "ignored",
          "traceback": [
            "\u001b[0;31m---------------------------------------------------------------------------\u001b[0m",
            "\u001b[0;31mTypeError\u001b[0m                                 Traceback (most recent call last)",
            "\u001b[0;32m<ipython-input-55-155156bbe683>\u001b[0m in \u001b[0;36m<cell line: 1>\u001b[0;34m()\u001b[0m\n\u001b[0;32m----> 1\u001b[0;31m \u001b[0mstr_a\u001b[0m \u001b[0;34m+\u001b[0m \u001b[0mint_a\u001b[0m \u001b[0;31m#ไม่สามารถนำ string + int ได้\u001b[0m\u001b[0;34m\u001b[0m\u001b[0;34m\u001b[0m\u001b[0m\n\u001b[0m",
            "\u001b[0;31mTypeError\u001b[0m: can only concatenate str (not \"int\") to str"
          ]
        }
      ]
    },
    {
      "cell_type": "code",
      "source": [
        "str(fl_b) #transform float to string แปลงค่าจาก Float เป็น string ได้"
      ],
      "metadata": {
        "id": "JeVH4S4AKq6S",
        "outputId": "0f1e1b59-901c-4cb6-a69a-1f5fb1d409e7",
        "colab": {
          "base_uri": "https://localhost:8080/",
          "height": 36
        }
      },
      "execution_count": 56,
      "outputs": [
        {
          "output_type": "execute_result",
          "data": {
            "text/plain": [
              "'2.571'"
            ],
            "application/vnd.google.colaboratory.intrinsic+json": {
              "type": "string"
            }
          },
          "metadata": {},
          "execution_count": 56
        }
      ]
    },
    {
      "cell_type": "code",
      "source": [
        "int(fl_b) #transform float to int (but it will cut te floating point) แปลงค่าจาก float เป็น int ได้แต่จะตัดจุดทศนิยมออกไป"
      ],
      "metadata": {
        "id": "QTiKLXKSLPHu",
        "outputId": "6a38e8d4-6abe-4650-f13f-69b7fe1f6b29",
        "colab": {
          "base_uri": "https://localhost:8080/"
        }
      },
      "execution_count": 57,
      "outputs": [
        {
          "output_type": "execute_result",
          "data": {
            "text/plain": [
              "2"
            ]
          },
          "metadata": {},
          "execution_count": 57
        }
      ]
    },
    {
      "cell_type": "markdown",
      "source": [
        "## Replace() แทนที่ String"
      ],
      "metadata": {
        "id": "8YFNUDO4LmdQ"
      }
    },
    {
      "cell_type": "markdown",
      "source": [
        "การแปลงค่าด้วยข้อมูล String"
      ],
      "metadata": {
        "id": "cmoF4NRwRRtl"
      }
    },
    {
      "cell_type": "code",
      "source": [
        "st_test1 = 'Department of Statistics,'"
      ],
      "metadata": {
        "id": "CL-j3LuCLVn9"
      },
      "execution_count": 58,
      "outputs": []
    },
    {
      "cell_type": "code",
      "source": [
        "st_test1.replace('e',' ') #replace e with space แทน e ด้วยช่องว่าง"
      ],
      "metadata": {
        "id": "JnP8RDvtMPEY",
        "outputId": "01b200f3-331c-4846-8dbd-d76ea894d248",
        "colab": {
          "base_uri": "https://localhost:8080/",
          "height": 36
        }
      },
      "execution_count": 59,
      "outputs": [
        {
          "output_type": "execute_result",
          "data": {
            "text/plain": [
              "'D partm nt of Statistics,'"
            ],
            "application/vnd.google.colaboratory.intrinsic+json": {
              "type": "string"
            }
          },
          "metadata": {},
          "execution_count": 59
        }
      ]
    },
    {
      "cell_type": "code",
      "source": [
        "st_test1"
      ],
      "metadata": {
        "id": "ID_umjiYNGjY",
        "outputId": "8efd8595-16b8-4107-9349-468a48382736",
        "colab": {
          "base_uri": "https://localhost:8080/",
          "height": 36
        }
      },
      "execution_count": 60,
      "outputs": [
        {
          "output_type": "execute_result",
          "data": {
            "text/plain": [
              "'Department of Statistics,'"
            ],
            "application/vnd.google.colaboratory.intrinsic+json": {
              "type": "string"
            }
          },
          "metadata": {},
          "execution_count": 60
        }
      ]
    },
    {
      "cell_type": "code",
      "source": [
        "st_test2 = st_test1.replace('e',' ')"
      ],
      "metadata": {
        "id": "rYUU_OLcMZJt"
      },
      "execution_count": 61,
      "outputs": []
    },
    {
      "cell_type": "code",
      "source": [
        "st_test2"
      ],
      "metadata": {
        "id": "NCY7ZBvFMrvi",
        "outputId": "6434c972-9e54-47c5-f475-e2763874a6f8",
        "colab": {
          "base_uri": "https://localhost:8080/",
          "height": 36
        }
      },
      "execution_count": 62,
      "outputs": [
        {
          "output_type": "execute_result",
          "data": {
            "text/plain": [
              "'D partm nt of Statistics,'"
            ],
            "application/vnd.google.colaboratory.intrinsic+json": {
              "type": "string"
            }
          },
          "metadata": {},
          "execution_count": 62
        }
      ]
    },
    {
      "cell_type": "code",
      "source": [
        "st_test1.replace('ti','TI') # Modify ti to TI เปลี่ยน ti เป็น TI"
      ],
      "metadata": {
        "id": "rXQkaJW_ND8e",
        "outputId": "d65880ce-7953-43f9-f4d9-53856a796f38",
        "colab": {
          "base_uri": "https://localhost:8080/",
          "height": 36
        }
      },
      "execution_count": 63,
      "outputs": [
        {
          "output_type": "execute_result",
          "data": {
            "text/plain": [
              "'Department of StaTIsTIcs,'"
            ],
            "application/vnd.google.colaboratory.intrinsic+json": {
              "type": "string"
            }
          },
          "metadata": {},
          "execution_count": 63
        }
      ]
    },
    {
      "cell_type": "markdown",
      "source": [
        "## split() แยก string"
      ],
      "metadata": {
        "id": "E29yNtS1OM3S"
      }
    },
    {
      "cell_type": "markdown",
      "source": [
        "การแยกข้อมูลไว้สำหรับตัดข้อมูลออกซึ่งจะเก็บในรูปแบบ list"
      ],
      "metadata": {
        "id": "JNejsy9MRcOQ"
      }
    },
    {
      "cell_type": "code",
      "source": [
        "'a b c d e f g'.split() #ตัด string ที่ช่องว่าง"
      ],
      "metadata": {
        "id": "sSInuCufNrJ8",
        "outputId": "91b99b34-15bf-4582-f21c-cc1823c5efa3",
        "colab": {
          "base_uri": "https://localhost:8080/"
        }
      },
      "execution_count": 64,
      "outputs": [
        {
          "output_type": "execute_result",
          "data": {
            "text/plain": [
              "['a', 'b', 'c', 'd', 'e', 'f', 'g']"
            ]
          },
          "metadata": {},
          "execution_count": 64
        }
      ]
    },
    {
      "cell_type": "code",
      "source": [
        "'abc de fg'.split() # แยกด้วย /"
      ],
      "metadata": {
        "id": "QnXAFBSzObln",
        "outputId": "909063d1-3cba-4750-ccd3-118415a0adff",
        "colab": {
          "base_uri": "https://localhost:8080/"
        }
      },
      "execution_count": 65,
      "outputs": [
        {
          "output_type": "execute_result",
          "data": {
            "text/plain": [
              "['abc', 'de', 'fg']"
            ]
          },
          "metadata": {},
          "execution_count": 65
        }
      ]
    },
    {
      "cell_type": "code",
      "source": [
        "'a,b/c,d e/f g'.split('/') # แยกด้วย /"
      ],
      "metadata": {
        "id": "LAj0aYmuOs4O",
        "outputId": "c26a6a27-8cde-4f20-9812-915048eb5673",
        "colab": {
          "base_uri": "https://localhost:8080/"
        }
      },
      "execution_count": 66,
      "outputs": [
        {
          "output_type": "execute_result",
          "data": {
            "text/plain": [
              "['a,b', 'c,d e', 'f g']"
            ]
          },
          "metadata": {},
          "execution_count": 66
        }
      ]
    }
  ]
}